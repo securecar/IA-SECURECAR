{
  "nbformat": 4,
  "nbformat_minor": 0,
  "metadata": {
    "colab": {
      "provenance": []
    },
    "kernelspec": {
      "name": "python3",
      "display_name": "Python 3"
    },
    "language_info": {
      "name": "python"
    }
  },
  "cells": [
    {
      "cell_type": "code",
      "execution_count": 1,
      "metadata": {
        "id": "KtJiynosd42Y"
      },
      "outputs": [],
      "source": [
        "# %%\n",
        "import pandas as pd\n",
        "from sklearn.model_selection import train_test_split\n",
        "from sklearn.preprocessing import MultiLabelBinarizer\n",
        "from sklearn.linear_model import LogisticRegression\n",
        "from sklearn.metrics import classification_report\n",
        "from sklearn.feature_extraction.text import TfidfVectorizer\n",
        "from sklearn.multiclass import OneVsRestClassifier\n",
        "import pickle\n"
      ]
    },
    {
      "cell_type": "markdown",
      "source": [],
      "metadata": {
        "id": "Ch-tJuAnfoga"
      }
    },
    {
      "cell_type": "code",
      "source": [
        "\n",
        "# Função para normalizar o texto\n",
        "def normalizar_texto(texto):\n",
        "    return texto.strip().lower()\n",
        "\n",
        "# Carregar o dataset\n",
        "dataset = pd.read_csv('problemas_combinados_2.csv', sep=',')\n",
        "\n",
        "# Verificar as primeiras linhas do dataset\n",
        "print(\"Primeiras linhas do dataset original:\")\n",
        "print(dataset.head())\n",
        "\n",
        "# Unificar as colunas de quilometragem em uma única coluna\n",
        "dataset_melted = pd.melt(\n",
        "    dataset,\n",
        "    id_vars=['Problema', 'Possíveis causas'],\n",
        "    value_vars=['20.000km', '50.000km', '100.000km+'],\n",
        "    var_name='Quilometragem',\n",
        "    value_name='Probabilidade'\n",
        ")\n",
        "\n"
      ],
      "metadata": {
        "colab": {
          "base_uri": "https://localhost:8080/"
        },
        "id": "_FqIgFzXeXj9",
        "outputId": "e35aed99-1784-4b3c-9dcf-7d26e666b02d"
      },
      "execution_count": 3,
      "outputs": [
        {
          "output_type": "stream",
          "name": "stdout",
          "text": [
            "Primeiras linhas do dataset original:\n",
            "                       Problema  \\\n",
            "0         Ar condicionado fraco   \n",
            "1  Ar-condicionado não funciona   \n",
            "2     Barulho estranho no motor   \n",
            "3              Barulho no motor   \n",
            "4    Carro puxando para um lado   \n",
            "\n",
            "                                    Possíveis causas  20.000km  50.000km  \\\n",
            "0  Filtro sujo, Compressor com mal funcionamento,...       0.3       0.5   \n",
            "1                              Filtro de ar entupido       0.2       0.4   \n",
            "2  Correia dentada desgastada, Problemas no alter...       0.2       0.5   \n",
            "3  Pressão incorreta, Correia dentada desgastada,...       0.2       0.4   \n",
            "4        Desalinhamento, Pressão dos pneus desiguais       0.3       0.5   \n",
            "\n",
            "   100.000km+  \n",
            "0         0.7  \n",
            "1         0.6  \n",
            "2         0.8  \n",
            "3         0.7  \n",
            "4         0.6  \n"
          ]
        }
      ]
    },
    {
      "cell_type": "markdown",
      "source": [
        "# Unificar as colunas de quilometragem em uma única coluna\n",
        "O método pd.melt é utilizado para transformar o formato do dataframe, criando uma nova coluna 'Quilometragem' que contém as diferentes quilometragens e outra coluna 'Probabilidade' que contém os valores correspondentes.\n",
        "\n",
        "Isso é útil para análises posteriores, onde podemos querer trabalhar com os dados de quilometragem de forma mais uniforme."
      ],
      "metadata": {
        "id": "N_flBsFlfvWq"
      }
    },
    {
      "cell_type": "code",
      "source": [
        "# Manter apenas as linhas com 'Probabilidade' > 0\n",
        "dataset_melted = dataset_melted[dataset_melted['Probabilidade'] > 0]\n",
        "\n",
        "# Normalizar os textos\n",
        "dataset_melted['Problema'] = dataset_melted['Problema'].apply(normalizar_texto)\n",
        "dataset_melted['Quilometragem'] = dataset_melted['Quilometragem'].apply(normalizar_texto)\n",
        "dataset_melted['Possíveis causas'] = dataset_melted['Possíveis causas'].apply(\n",
        "    lambda x: [normalizar_texto(causa) for causa in x.split(', ')]\n",
        ")\n",
        "\n",
        "# Combinar 'Problema' e 'Quilometragem' em uma única coluna de texto\n",
        "dataset_melted['Entrada'] = dataset_melted['Problema'] + ' ' + dataset_melted['Quilometragem']\n",
        "\n",
        "# Vetorizar a entrada usando TF-IDF com n-grams e ajustes\n",
        "vectorizer = TfidfVectorizer(\n",
        "    ngram_range=(1, 2),\n",
        "    min_df=1,\n",
        "    max_df=0.8,\n",
        "    strip_accents='unicode',\n",
        "    lowercase=True\n",
        ")\n",
        "X = vectorizer.fit_transform(dataset_melted['Entrada'])\n",
        "\n",
        "# Binarizar 'Possíveis causas' para classificação multilabel\n",
        "mlb = MultiLabelBinarizer()\n",
        "y = mlb.fit_transform(dataset_melted['Possíveis causas'])\n",
        "\n",
        "# Verificar a distribuição das classes\n",
        "print(\"\\nDistribuição das classes após binarização:\")\n",
        "print(pd.DataFrame(y, columns=mlb.classes_).sum())\n",
        "\n",
        "# Dividir os dados em conjuntos de treinamento e teste\n",
        "X_train, X_test, y_train, y_test = train_test_split(\n",
        "    X, y, test_size=0.2, random_state=42\n",
        ")\n",
        "\n"
      ],
      "metadata": {
        "colab": {
          "base_uri": "https://localhost:8080/"
        },
        "id": "vesDHAb8e9Kz",
        "outputId": "a0f0a88d-7af3-41cb-9f86-521732fd580e"
      },
      "execution_count": 4,
      "outputs": [
        {
          "output_type": "stream",
          "name": "stdout",
          "text": [
            "\n",
            "Distribuição das classes após binarização:\n",
            "acúmulo de sujeira                           3\n",
            "alinhamento da porta incorreto               3\n",
            "alinhamento incorreto                        9\n",
            "alternador com defeito                       3\n",
            "alternador com problema                      3\n",
            "                                            ..\n",
            "velas de ignição desgastadas                 3\n",
            "ventoinha do radiador com problema           3\n",
            "válvula de controle de ar inativa            3\n",
            "válvula de controle de calor com problema    3\n",
            "óleo baixo                                   3\n",
            "Length: 116, dtype: int64\n"
          ]
        }
      ]
    },
    {
      "cell_type": "markdown",
      "source": [
        "O código apresentado realiza um pré-processamento de dados para um modelo de aprendizado de máquina, começando pela filtragem de linhas com probabilidade maior que zero. Essa etapa é crucial para garantir que apenas dados relevantes sejam analisados, melhorando a qualidade do modelo. Em seguida, o código normaliza os textos das colunas \"Problema\" e \"Quilometragem\", removendo espaços em branco e convertendo tudo para minúsculas, o que ajuda a padronizar os dados. As \"Possíveis causas\" são também normalizadas, sendo divididas em listas para facilitar o manuseio. Posteriormente, as colunas \"Problema\" e \"Quilometragem\" são combinadas em uma nova coluna chamada \"Entrada\", que será utilizada para a vetorização.\n",
        "\n",
        "A vetorização é feita utilizando o TfidfVectorizer, que transforma o texto em uma matriz de características, levando em consideração unigramas e bigramas. Essa abordagem permite capturar tanto palavras isoladas quanto pares de palavras, o que pode melhorar a eficácia do modelo. Após a vetorização, as \"Possíveis causas\" são binarizadas usando o MultiLabelBinarizer, criando uma matriz onde cada coluna representa uma classe e os valores indicam a presença ou ausência das causas. Finalmente, os dados são divididos em conjuntos de treinamento e teste, permitindo a avaliação do desempenho do modelo em dados não vistos. Essa preparação metódica é fundamental para o sucesso de qualquer projeto de aprendizado de máquina."
      ],
      "metadata": {
        "id": "DoglAC5-f9yC"
      }
    },
    {
      "cell_type": "code",
      "source": [
        "# Inicializar o modelo com OneVsRestClassifier e LogisticRegression com class_weight='balanced'\n",
        "model = OneVsRestClassifier(\n",
        "    LogisticRegression(max_iter=2000, solver='liblinear', class_weight='balanced')\n",
        ")\n",
        "\n",
        "# Treinar o modelo\n",
        "model.fit(X_train, y_train)\n",
        "\n",
        "# Fazer previsões no conjunto de teste\n",
        "y_pred = model.predict(X_test)\n",
        "\n",
        "# Avaliar o modelo\n",
        "print(\"\\nRelatório de Classificação:\")\n",
        "print(classification_report(y_test, y_pred, target_names=mlb.classes_))\n",
        "\n",
        "# Salvar o modelo, o vetorizador e o binarizador em um arquivo pickle\n",
        "with open('modelo_causas_aprimorado.pkl', 'wb') as f:\n",
        "    pickle.dump({\n",
        "        'model': model,\n",
        "        'vectorizer': vectorizer,\n",
        "        'mlb': mlb\n",
        "    }, f)\n",
        "\n",
        "print(\"Modelo aprimorado salvo como 'modelo_causas_aprimorado.pkl'\")"
      ],
      "metadata": {
        "colab": {
          "base_uri": "https://localhost:8080/"
        },
        "id": "HLDViKiWfYoj",
        "outputId": "4bae2b5d-3520-4ddc-980c-8d811ff3cb6a"
      },
      "execution_count": 5,
      "outputs": [
        {
          "output_type": "stream",
          "name": "stdout",
          "text": [
            "\n",
            "Relatório de Classificação:\n",
            "                                           precision    recall  f1-score   support\n",
            "\n",
            "                       acúmulo de sujeira       0.00      0.00      0.00         0\n",
            "           alinhamento da porta incorreto       0.00      0.00      0.00         0\n",
            "                    alinhamento incorreto       1.00      1.00      1.00         5\n",
            "                   alternador com defeito       1.00      1.00      1.00         2\n",
            "                  alternador com problema       1.00      1.00      1.00         1\n",
            "                   amortecedor danificado       1.00      1.00      1.00         1\n",
            "                amortecedores desgastados       1.00      1.00      1.00         3\n",
            "                 antena de gps danificada       0.00      0.00      0.00         0\n",
            "                   bateria da chave fraca       0.00      0.00      0.00         0\n",
            "                     bateria descarregada       0.00      0.00      0.00         0\n",
            "                            bateria fraca       1.00      1.00      1.00         1\n",
            "                            bateria velha       1.00      1.00      1.00         2\n",
            "           bobina de ignição com problema       1.00      1.00      1.00         1\n",
            "                          boia encharcada       1.00      1.00      1.00         1\n",
            "                   bomba abs com problema       0.00      0.00      0.00         0\n",
            "             botão de ajuste com problema       1.00      1.00      1.00         2\n",
            "                       buchas danificadas       1.00      1.00      1.00         2\n",
            "                    cabo da bateria solto       0.00      0.00      0.00         0\n",
            "            cabo do acelerador desgastado       0.00      0.00      0.00         0\n",
            "              cabos de câmbio desgastados       0.00      0.00      0.00         0\n",
            "                 catalisador com problema       0.00      0.00      0.00         0\n",
            "                    combustível excessivo       0.00      0.00      0.00         0\n",
            "         compressor com mal funcionamento       0.00      0.00      0.00         0\n",
            "                  compressor com problema       0.00      0.00      0.00         0\n",
            "      correia da direção hidráulica solta       1.00      1.00      1.00         2\n",
            "               correia dentada desgastada       1.00      1.00      1.00         2\n",
            "                       correia desgastada       1.00      1.00      1.00         1\n",
            "                            correia solta       1.00      1.00      1.00         1\n",
            "                       câmera com defeito       1.00      1.00      1.00         1\n",
            "                       danos na suspensão       1.00      1.00      1.00         1\n",
            "                           desalinhamento       1.00      1.00      1.00         1\n",
            "                   desalinhamento do eixo       1.00      1.00      1.00         1\n",
            "               desbalanceamento das rodas       1.00      1.00      1.00         3\n",
            "                discos de freio empenados       1.00      1.00      1.00         1\n",
            "                         discos empenados       1.00      1.00      1.00         1\n",
            "                     embreagem desgastada       0.00      0.00      0.00         0\n",
            "                   embreagem mal ajustada       0.00      0.00      0.00         0\n",
            "   falha no sistema de injeção eletrônica       0.00      0.00      0.00         0\n",
            "                    falta de lubrificação       1.00      1.00      1.00         1\n",
            "        falta de líquido de arrefecimento       0.00      0.00      0.00         0\n",
            "             falta de ventilação adequada       1.00      1.00      1.00         1\n",
            "                     fechadura desgastada       0.00      0.00      0.00         0\n",
            "                    filtro de ar entupido       0.00      0.00      0.00         0\n",
            "                        filtro de ar sujo       0.00      0.00      0.00         0\n",
            "               filtro de óleo com defeito       0.00      0.00      0.00         0\n",
            "                              filtro sujo       0.00      0.00      0.00         0\n",
            "       fluido da direção hidráulica baixo       1.00      1.00      1.00         2\n",
            "                fluido da embreagem baixo       0.00      0.00      0.00         0\n",
            "              fluido da transmissão baixo       0.00      0.00      0.00         0\n",
            "                    fluido de freio baixo       0.00      0.00      0.00         0\n",
            "                fluido refrigerante baixo       0.00      0.00      0.00         0\n",
            "                         fusível queimado       1.00      1.00      1.00         6\n",
            "           injetores de combustível sujos       0.00      0.00      0.00         0\n",
            "        interruptor de farol com problema       0.00      0.00      0.00         0\n",
            "         interruptor de freio com defeito       1.00      1.00      1.00         1\n",
            "               junta do cabeçote queimada       1.00      1.00      1.00         1\n",
            "                junta do motor desgastada       0.00      0.00      0.00         0\n",
            "                         lâmpada queimada       1.00      1.00      1.00         5\n",
            "                     lâmpadas desgastadas       1.00      1.00      1.00         1\n",
            "           líquido de arrefecimento baixo       0.00      0.00      0.00         0\n",
            "           mal funcionamento da ventoinha       0.00      0.00      0.00         0\n",
            "           mangueira de combustível solta       0.00      0.00      0.00         0\n",
            "         mangueiras ressecadas ou furadas       0.00      0.00      0.00         0\n",
            "         mecanismo de retração defeituoso       0.00      0.00      0.00         0\n",
            "               mola da suspensão quebrada       1.00      1.00      1.00         2\n",
            "       motor do banco elétrico defeituoso       0.00      0.00      0.00         0\n",
            "            motor do limpador com defeito       1.00      1.00      1.00         1\n",
            "          motor do retrovisor com defeito       1.00      1.00      1.00         2\n",
            "      motor do vidro elétrico com defeito       0.00      0.00      0.00         0\n",
            "              módulo de controle do motor       0.00      0.00      0.00         0\n",
            "           pastilhas de freio desgastadas       1.00      1.00      1.00         1\n",
            "                pastilhas de freio gastas       0.00      0.00      0.00         0\n",
            "                    pastilhas desgastadas       1.00      1.00      1.00         1\n",
            "           pedal de acelerador defeituoso       0.00      0.00      0.00         0\n",
            "              pinças de freio defeituosas       0.00      0.00      0.00         0\n",
            "                              pneu furado       1.00      1.00      1.00         2\n",
            "                        pneus desgastados       1.00      1.00      1.00         1\n",
            "              pressão dos pneus desiguais       1.00      1.00      1.00         1\n",
            "              pressão dos pneus incorreta       1.00      1.00      1.00         2\n",
            "                        pressão incorreta       1.00      1.00      1.00         1\n",
            "                     problema de software       0.00      0.00      0.00         0\n",
            "                        problema na chave       0.00      0.00      0.00         0\n",
            "                       problema na fiação       1.00      1.00      1.00         5\n",
            "              problema na fiação elétrica       1.00      1.00      1.00         2\n",
            "                        problema no motor       1.00      1.00      1.00         1\n",
            "            problema no receptor da chave       0.00      0.00      0.00         0\n",
            "           problema no sistema de injeção       0.00      0.00      0.00         0\n",
            "             problemas de ajuste do farol       1.00      1.00      1.00         1\n",
            "                  problemas no alternador       1.00      1.00      1.00         1\n",
            "   problemas no sistema de desembaçamento       1.00      1.00      1.00         1\n",
            "              quebra do cabo de embreagem       0.00      0.00      0.00         0\n",
            "                   radiador com vazamento       0.00      0.00      0.00         0\n",
            "               relé dos faróis defeituoso       0.00      0.00      0.00         0\n",
            "                         rádio defeituoso       1.00      1.00      1.00         1\n",
            "         sensor de fluxo de ar defeituoso       0.00      0.00      0.00         0\n",
            "            sensor de oxigênio defeituoso       1.00      1.00      1.00         1\n",
            "                  sensor de ré defeituoso       1.00      1.00      1.00         1\n",
            " sensor de velocidade da roda com defeito       0.00      0.00      0.00         0\n",
            "                          sensor queimado       1.00      1.00      1.00         1\n",
            "                         superaquecimento       0.00      0.00      0.00         0\n",
            "                       tambores empenados       1.00      1.00      1.00         1\n",
            "              tampa do tanque mal fechada       0.00      0.00      0.00         0\n",
            "               tampa do óleo mal colocada       0.00      0.00      0.00         0\n",
            "                    termostato defeituoso       0.00      0.00      0.00         0\n",
            "                  thermostato com defeito       0.00      0.00      0.00         0\n",
            "                trava do banco desgastada       0.00      0.00      0.00         0\n",
            "         trava do porta-malas com defeito       0.00      0.00      0.00         0\n",
            "                        vazamento de óleo       1.00      1.00      1.00         1\n",
            "     vazamento de óleo na caixa de câmbio       0.00      0.00      0.00         0\n",
            "       vazamento no tanque de combustível       0.00      0.00      0.00         0\n",
            "             velas de ignição defeituosas       1.00      1.00      1.00         1\n",
            "             velas de ignição desgastadas       1.00      1.00      1.00         1\n",
            "       ventoinha do radiador com problema       0.00      0.00      0.00         0\n",
            "        válvula de controle de ar inativa       0.00      0.00      0.00         0\n",
            "válvula de controle de calor com problema       0.00      0.00      0.00         0\n",
            "                               óleo baixo       1.00      1.00      1.00         1\n",
            "\n",
            "                                micro avg       0.97      1.00      0.98        88\n",
            "                                macro avg       0.47      0.47      0.47        88\n",
            "                             weighted avg       1.00      1.00      1.00        88\n",
            "                              samples avg       0.99      1.00      0.99        88\n",
            "\n",
            "Modelo aprimorado salvo como 'modelo_causas_aprimorado.pkl'\n"
          ]
        },
        {
          "output_type": "stream",
          "name": "stderr",
          "text": [
            "/usr/local/lib/python3.10/dist-packages/sklearn/metrics/_classification.py:1531: UndefinedMetricWarning: Precision is ill-defined and being set to 0.0 in labels with no predicted samples. Use `zero_division` parameter to control this behavior.\n",
            "  _warn_prf(average, modifier, f\"{metric.capitalize()} is\", len(result))\n",
            "/usr/local/lib/python3.10/dist-packages/sklearn/metrics/_classification.py:1531: UndefinedMetricWarning: Recall is ill-defined and being set to 0.0 in labels with no true samples. Use `zero_division` parameter to control this behavior.\n",
            "  _warn_prf(average, modifier, f\"{metric.capitalize()} is\", len(result))\n",
            "/usr/local/lib/python3.10/dist-packages/sklearn/metrics/_classification.py:1531: UndefinedMetricWarning: F-score is ill-defined and being set to 0.0 in labels with no true nor predicted samples. Use `zero_division` parameter to control this behavior.\n",
            "  _warn_prf(average, modifier, f\"{metric.capitalize()} is\", len(result))\n"
          ]
        }
      ]
    },
    {
      "cell_type": "markdown",
      "source": [
        "O código apresentado realiza a inicialização e o treinamento de um modelo de aprendizado de máquina para classificação multilabel utilizando o `OneVsRestClassifier` com uma regressão logística. O `class_weight='balanced'` é utilizado para lidar com classes desbalanceadas, ajustando automaticamente os pesos das classes com base em suas frequências no conjunto de dados. Após a inicialização, o modelo é treinado com os dados de treinamento (`X_train` e `y_train`). Esse passo é fundamental, pois permite que o modelo aprenda a identificar padrões nos dados que estão associados a cada uma das possíveis causas.\n",
        "\n",
        "Uma vez que o modelo está treinado, ele é utilizado para fazer previsões no conjunto de teste (`X_test`). A eficácia do modelo é avaliada através do `classification_report`, que fornece métricas detalhadas de desempenho, como precisão, recall e F1-score para cada classe. Isso ajuda a entender como o modelo se comporta em relação a diferentes causas. Por fim, o modelo, o vetorizador e o binarizador são salvos em um arquivo pickle. Isso permite que o modelo seja reutilizado sem a necessidade de re-treinamento, facilitando a implementação em aplicações futuras. A mensagem de confirmação indica que o processo foi concluído com sucesso, sinalizando que o modelo aprimorado está agora pronto para uso."
      ],
      "metadata": {
        "id": "wLfGUf3KgD0x"
      }
    }
  ]
}